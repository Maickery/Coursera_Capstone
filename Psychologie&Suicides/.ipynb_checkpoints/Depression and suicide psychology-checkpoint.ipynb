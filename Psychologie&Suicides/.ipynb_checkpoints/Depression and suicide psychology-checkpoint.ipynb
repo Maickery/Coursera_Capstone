{
 "cells": [
  {
   "cell_type": "markdown",
   "metadata": {},
   "source": [
    "<h1 align=center><font size = 5>Depression and suicide psychology</font></h1>"
   ]
  },
  {
   "cell_type": "markdown",
   "metadata": {},
   "source": [
    "Christine Dupré would like to open a new psychologist's office. Specialist in depressive disorders, paranoia and personality disorders, she has the idea of ​​settling somewhere where statistically there is the highest level of suicides in the world.\n",
    "Depression is one of the causes of suicide, she says, if it is properly treated the suicide rate should decrease.\n",
    "So she called on us to offer her the best country where she could settle. As data, she sent us suicides from the world from 1987 to 2015. She also said that we had to choose a place not far from transportation and a good restaurant.\n",
    "\n",
    "According to the data in hand, we decided to divide our work into two main parts:    \n",
    "\n",
    "A. The worldwide suicide    \n",
    "\n",
    "B. The choice of the best location"
   ]
  },
  {
   "cell_type": "markdown",
   "metadata": {},
   "source": [
    "## A. Worldwide suicides"
   ]
  },
  {
   "cell_type": "markdown",
   "metadata": {},
   "source": [
    "### 1. Imported Dataset"
   ]
  },
  {
   "cell_type": "code",
   "execution_count": null,
   "metadata": {},
   "outputs": [],
   "source": [
    "import pandas as pd # for data analsysis\n",
    "import numpy as np # to handle data in a vectorized manner"
   ]
  },
  {
   "cell_type": "code",
   "execution_count": null,
   "metadata": {},
   "outputs": [],
   "source": [
    "df = pd.read_csv(r'master.csv') # Load the csv\n",
    "df['HDI for year'] = df['HDI for year'].fillna(0) # to fill NA/NaN values\n",
    "df"
   ]
  },
  {
   "cell_type": "code",
   "execution_count": null,
   "metadata": {},
   "outputs": [],
   "source": []
  }
 ],
 "metadata": {
  "kernelspec": {
   "display_name": "Python 3",
   "language": "python",
   "name": "python3"
  },
  "language_info": {
   "codemirror_mode": {
    "name": "ipython",
    "version": 3
   },
   "file_extension": ".py",
   "mimetype": "text/x-python",
   "name": "python",
   "nbconvert_exporter": "python",
   "pygments_lexer": "ipython3",
   "version": "3.7.6"
  }
 },
 "nbformat": 4,
 "nbformat_minor": 4
}
